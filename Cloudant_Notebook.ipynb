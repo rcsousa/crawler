{
 "cells": [
  {
   "cell_type": "code",
   "execution_count": 58,
   "metadata": {
    "collapsed": true
   },
   "outputs": [],
   "source": [
    "import pprint\n",
    "from collections import Counter"
   ]
  },
  {
   "cell_type": "code",
   "execution_count": 85,
   "metadata": {
    "collapsed": false
   },
   "outputs": [],
   "source": [
    "from pyspark.sql import *\n",
    "from pyspark.sql.functions import udf, asc, desc\n",
    "from pyspark import SparkContext, SparkConf\n",
    "from pyspark.sql.types import IntegerType\n",
    "from operator import add"
   ]
  },
  {
   "cell_type": "code",
   "execution_count": 109,
   "metadata": {
    "collapsed": false
   },
   "outputs": [
    {
     "data": {
      "text/plain": [
       "u'1.6.0'"
      ]
     },
     "execution_count": 109,
     "metadata": {},
     "output_type": "execute_result"
    }
   ],
   "source": [
    "sc.version"
   ]
  },
  {
   "cell_type": "code",
   "execution_count": 110,
   "metadata": {
    "collapsed": true
   },
   "outputs": [],
   "source": [
    "sqlContext = SQLContext(sc)"
   ]
  },
  {
   "cell_type": "code",
   "execution_count": 111,
   "metadata": {
    "collapsed": true
   },
   "outputs": [],
   "source": [
    "cloudantdata = sqlContext.read.format(\"com.cloudant.spark\").\\\n",
    "option(\"cloudant.host\",\"xxxxx.cloudant.com\").\\\n",
    "option(\"cloudant.username\",\"xxxxx\").\\\n",
    "option(\"cloudant.password\",\"xxxxx\").\\\n",
    "load(\"xxxxx\")"
   ]
  },
  {
   "cell_type": "code",
   "execution_count": 112,
   "metadata": {
    "collapsed": false
   },
   "outputs": [
    {
     "name": "stdout",
     "output_type": "stream",
     "text": [
      "root\n",
      " |-- _id: string (nullable = true)\n",
      " |-- _rev: string (nullable = true)\n",
      " |-- advogado: string (nullable = true)\n",
      " |-- avaliacao: string (nullable = true)\n",
      " |-- estado: string (nullable = true)\n",
      " |-- oab: string (nullable = true)\n",
      "\n"
     ]
    }
   ],
   "source": [
    "cloudantdata.printSchema()"
   ]
  },
  {
   "cell_type": "code",
   "execution_count": 113,
   "metadata": {
    "collapsed": false
   },
   "outputs": [
    {
     "data": {
      "text/plain": [
       "1500"
      ]
     },
     "execution_count": 113,
     "metadata": {},
     "output_type": "execute_result"
    }
   ],
   "source": [
    "cloudantdata.count()"
   ]
  },
  {
   "cell_type": "code",
   "execution_count": 114,
   "metadata": {
    "collapsed": true
   },
   "outputs": [],
   "source": [
    "sqlCtx.registerDataFrameAsTable(cloudantdata, \"advogados\")"
   ]
  },
  {
   "cell_type": "code",
   "execution_count": 115,
   "metadata": {
    "collapsed": false
   },
   "outputs": [],
   "source": [
    "avl_estados = sqlCtx.sql(\"SELECT estado, avaliacao from advogados where avaliacao != 'nao informado'\")"
   ]
  },
  {
   "cell_type": "code",
   "execution_count": 116,
   "metadata": {
    "collapsed": true
   },
   "outputs": [],
   "source": [
    "reducedValue = avl_estados.groupBy(\"avaliacao\").count()"
   ]
  },
  {
   "cell_type": "code",
   "execution_count": 117,
   "metadata": {
    "collapsed": false
   },
   "outputs": [
    {
     "name": "stdout",
     "output_type": "stream",
     "text": [
      "+---------+-----+\n",
      "|avaliacao|count|\n",
      "+---------+-----+\n",
      "|      448|    1|\n",
      "|      288|    2|\n",
      "|      176|    1|\n",
      "|      221|    1|\n",
      "|      222|    5|\n",
      "|      677|    1|\n",
      "|      111|    6|\n",
      "|      112|    1|\n",
      "|      114|    1|\n",
      "|       50|   10|\n",
      "|       51|   10|\n",
      "|      116|    9|\n",
      "|       52|    9|\n",
      "|      117|    4|\n",
      "|      118|    5|\n",
      "|       53|    1|\n",
      "|      119|    3|\n",
      "|       54|    2|\n",
      "|      614|    2|\n",
      "|       55|    3|\n",
      "+---------+-----+\n",
      "only showing top 20 rows\n",
      "\n"
     ]
    }
   ],
   "source": [
    "reducedValue.show()"
   ]
  },
  {
   "cell_type": "code",
   "execution_count": 118,
   "metadata": {
    "collapsed": false
   },
   "outputs": [
    {
     "name": "stdout",
     "output_type": "stream",
     "text": [
      "+---------+-----+\n",
      "|avaliacao|count|\n",
      "+---------+-----+\n",
      "|        1|  227|\n",
      "|        2|  116|\n",
      "|        3|   86|\n",
      "|        5|   63|\n",
      "|        8|   49|\n",
      "|        4|   47|\n",
      "|        7|   42|\n",
      "|        6|   39|\n",
      "|       11|   31|\n",
      "|        9|   31|\n",
      "|       13|   28|\n",
      "|       14|   25|\n",
      "|       10|   24|\n",
      "|       32|   22|\n",
      "|       17|   20|\n",
      "|       16|   19|\n",
      "|       21|   19|\n",
      "|       22|   19|\n",
      "|       12|   18|\n",
      "|       15|   17|\n",
      "+---------+-----+\n",
      "only showing top 20 rows\n",
      "\n"
     ]
    }
   ],
   "source": [
    "reducedValue.orderBy(desc(\"count\"), asc(\"avaliacao\")).show()"
   ]
  },
  {
   "cell_type": "code",
   "execution_count": 119,
   "metadata": {
    "collapsed": true
   },
   "outputs": [],
   "source": [
    "import pandas as pd"
   ]
  },
  {
   "cell_type": "code",
   "execution_count": 125,
   "metadata": {
    "collapsed": false
   },
   "outputs": [
    {
     "name": "stdout",
     "output_type": "stream",
     "text": [
      "    avaliacao  count\n",
      "0           1    227\n",
      "1           2    116\n",
      "2           3     86\n",
      "3           5     63\n",
      "4           8     49\n",
      "5           4     47\n",
      "6           7     42\n",
      "7           6     39\n",
      "8          11     31\n",
      "9           9     31\n",
      "10         13     28\n",
      "11         14     25\n",
      "12         10     24\n",
      "13         32     22\n",
      "14         17     20\n",
      "15         16     19\n",
      "16         21     19\n",
      "17         22     19\n",
      "18         12     18\n",
      "19         15     17\n",
      "20         26     17\n",
      "21         18     15\n",
      "22         29     13\n",
      "23         20     11\n",
      "24         24     11\n",
      "25         47     11\n",
      "26         19     10\n",
      "27         25     10\n",
      "28         28     10\n",
      "29         50     10\n",
      "..        ...    ...\n",
      "152       231      1\n",
      "153       238      1\n",
      "154       245      1\n",
      "155       246      1\n",
      "156       252      1\n",
      "157       267      1\n",
      "158       271      1\n",
      "159       300      1\n",
      "160       305      1\n",
      "161       306      1\n",
      "162       322      1\n",
      "163        41      1\n",
      "164       412      1\n",
      "165      4235      1\n",
      "166       448      1\n",
      "167       491      1\n",
      "168        53      1\n",
      "169       530      1\n",
      "170       596      1\n",
      "171        60      1\n",
      "172        63      1\n",
      "173       677      1\n",
      "174        74      1\n",
      "175        78      1\n",
      "176        81      1\n",
      "177        88      1\n",
      "178       880      1\n",
      "179        91      1\n",
      "180        92      1\n",
      "181        93      1\n",
      "\n",
      "[182 rows x 2 columns]\n"
     ]
    }
   ],
   "source": [
    "pandaDF = reducedValue.orderBy(desc(\"count\"), asc(\"avaliacao\")).toPandas()\n",
    "print(pandaDF)"
   ]
  },
  {
   "cell_type": "code",
   "execution_count": 126,
   "metadata": {
    "collapsed": true
   },
   "outputs": [],
   "source": [
    "%matplotlib inline"
   ]
  },
  {
   "cell_type": "code",
   "execution_count": 127,
   "metadata": {
    "collapsed": true
   },
   "outputs": [],
   "source": [
    "import matplotlib.pyplot as plt"
   ]
  },
  {
   "cell_type": "code",
   "execution_count": 128,
   "metadata": {
    "collapsed": true
   },
   "outputs": [],
   "source": [
    "values = pandaDF['count']\n",
    "labels = pandaDF['avaliacao']"
   ]
  },
  {
   "cell_type": "code",
   "execution_count": 129,
   "metadata": {
    "collapsed": false
   },
   "outputs": [
    {
     "data": {
      "image/png": "[encoded data removed]",
      "text/plain": [
       "<matplotlib.figure.Figure at 0x7fd6bc512810>"
      ]
     },
     "metadata": {},
     "output_type": "display_data"
    }
   ],
   "source": [
    "plt.gcf().set_size_inches(15, 8, forward=True)\n",
    "plt.title('Distribuicao por numero de avaliacoes')\n",
    "\n",
    "\n",
    "plt.plot(range(len(values)), values, linewidth=2.0)\n",
    "plt.show()"
   ]
  },
  {
   "cell_type": "code",
   "execution_count": null,
   "metadata": {
    "collapsed": true
   },
   "outputs": [],
   "source": []
  }
 ],
 "metadata": {
  "kernelspec": {
   "display_name": "Python 2 with Spark 1.6",
   "language": "python",
   "name": "python2"
  },
  "language_info": {
   "codemirror_mode": {
    "name": "ipython",
    "version": 2
   },
   "file_extension": ".py",
   "mimetype": "text/x-python",
   "name": "python",
   "nbconvert_exporter": "python",
   "pygments_lexer": "ipython2",
   "version": "2.7.11"
  }
 },
 "nbformat": 4,
 "nbformat_minor": 0
}